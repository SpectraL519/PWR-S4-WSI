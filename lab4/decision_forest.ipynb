{
  "cells": [
    {
      "cell_type": "code",
      "execution_count": 1,
      "metadata": {
        "id": "flcxUnpklRDI"
      },
      "outputs": [],
      "source": [
        "!pip install -q tensorflow_decision_forests\n",
        "\n",
        "import tensorflow as tf\n",
        "import tensorflow_decision_forests as tfdf"
      ]
    },
    {
      "cell_type": "code",
      "execution_count": 2,
      "metadata": {
        "id": "R_9b2PGplRDK"
      },
      "outputs": [],
      "source": [
        "# Load and prep data\n",
        "def prep_data(x):\n",
        "    return x.reshape(-1, 28 * 28) / 255.\n",
        "\n",
        "\n",
        "(x_train, y_train), (x_test, y_test) = tf.keras.datasets.mnist.load_data()\n",
        "x_train = prep_data(x_train)\n",
        "x_test = prep_data(x_test)"
      ]
    },
    {
      "cell_type": "code",
      "execution_count": 3,
      "metadata": {
        "colab": {
          "base_uri": "https://localhost:8080/"
        },
        "id": "P7rMZ0dBlRDK",
        "outputId": "221feebd-a938-4e97-dd6f-adff273d1e9b"
      },
      "outputs": [
        {
          "name": "stdout",
          "output_type": "stream",
          "text": [
            "Use /tmp/tmp8q57jdl1 as temporary training directory\n",
            "Reading training dataset...\n",
            "Training dataset read in 0:01:22.509576. Found 60000 examples.\n",
            "Reading validation dataset...\n",
            "Num validation examples: tf.Tensor(10000, shape=(), dtype=int32)\n",
            "Validation dataset read in 0:00:33.188394. Found 10000 examples.\n",
            "Training model...\n",
            "Model trained in 0:00:45.664356\n",
            "Compiling model...\n"
          ]
        },
        {
          "name": "stderr",
          "output_type": "stream",
          "text": [
            "WARNING:tensorflow:AutoGraph could not transform <function simple_ml_inference_op_with_handle at 0x7fbe067332e0> and will run it as-is.\n",
            "Please report this to the TensorFlow team. When filing the bug, set the verbosity to 10 (on Linux, `export AUTOGRAPH_VERBOSITY=10`) and attach the full output.\n",
            "Cause: could not get source code\n",
            "To silence this warning, decorate the function with @tf.autograph.experimental.do_not_convert\n"
          ]
        },
        {
          "name": "stdout",
          "output_type": "stream",
          "text": [
            "WARNING: AutoGraph could not transform <function simple_ml_inference_op_with_handle at 0x7fbe067332e0> and will run it as-is.\n",
            "Please report this to the TensorFlow team. When filing the bug, set the verbosity to 10 (on Linux, `export AUTOGRAPH_VERBOSITY=10`) and attach the full output.\n",
            "Cause: could not get source code\n",
            "To silence this warning, decorate the function with @tf.autograph.experimental.do_not_convert\n",
            "Model compiled.\n"
          ]
        }
      ],
      "source": [
        "# Create and fit the model\n",
        "model = tfdf.keras.RandomForestModel(num_trees=30)\n",
        "\n",
        "model.compile(metrics=[\"accuracy\"])\n",
        "\n",
        "history = model.fit(\n",
        "    x_train, y_train,  \n",
        "    validation_data=(x_test, y_test)\n",
        ")  "
      ]
    },
    {
      "cell_type": "code",
      "execution_count": 4,
      "metadata": {
        "colab": {
          "base_uri": "https://localhost:8080/"
        },
        "id": "HmqRzDgWlYhC",
        "outputId": "91608c38-c31c-4d95-f344-f1351312100a"
      },
      "outputs": [
        {
          "name": "stdout",
          "output_type": "stream",
          "text": [
            "313/313 [==============================] - 6s 12ms/step - loss: 0.0000e+00 - accuracy: 0.9629\n"
          ]
        },
        {
          "data": {
            "text/plain": [
              "[0.0, 0.9628999829292297]"
            ]
          },
          "execution_count": 4,
          "metadata": {},
          "output_type": "execute_result"
        }
      ],
      "source": [
        "# Evaluate the model\n",
        "model.evaluate(x_test, y_test)"
      ]
    }
  ],
  "metadata": {
    "accelerator": "GPU",
    "colab": {
      "gpuType": "T4",
      "provenance": []
    },
    "kernelspec": {
      "display_name": "wsi",
      "language": "python",
      "name": "wsi"
    },
    "language_info": {
      "codemirror_mode": {
        "name": "ipython",
        "version": 3
      },
      "file_extension": ".py",
      "mimetype": "text/x-python",
      "name": "python",
      "nbconvert_exporter": "python",
      "pygments_lexer": "ipython3",
      "version": "3.9.7 (default, Sep 16 2021, 16:59:28) [MSC v.1916 64 bit (AMD64)]"
    },
    "orig_nbformat": 4,
    "vscode": {
      "interpreter": {
        "hash": "abf4fd21ff549c7bb15312bb94b6d394d7412e55ba7502692d0235832299bcda"
      }
    }
  },
  "nbformat": 4,
  "nbformat_minor": 0
}
