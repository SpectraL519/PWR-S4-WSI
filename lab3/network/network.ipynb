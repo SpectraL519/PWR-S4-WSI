{
 "cells": [
  {
   "cell_type": "code",
   "execution_count": 1,
   "metadata": {},
   "outputs": [],
   "source": [
    "import numpy as np\n",
    "import pandas as pd\n",
    "from sklearn.model_selection import ParameterGrid\n",
    "\n",
    "from network import FeedForwardDenseNetwork\n",
    "import activation\n",
    "import metrics\n",
    "import losses\n",
    "import normalizers"
   ]
  },
  {
   "cell_type": "markdown",
   "metadata": {},
   "source": [
    "# Generate data"
   ]
  },
  {
   "cell_type": "code",
   "execution_count": 2,
   "metadata": {},
   "outputs": [],
   "source": [
    "def generate_data(size: int):\n",
    "    data = np.random.uniform(low=0, high=1, size=(2, size))\n",
    "    data = data * np.random.choice([-1, 1], size=(2, size))\n",
    "    labels = (np.sign(data[0]) == np.sign(data[1])).astype(int)\n",
    "    return data, labels"
   ]
  },
  {
   "cell_type": "code",
   "execution_count": 3,
   "metadata": {},
   "outputs": [
    {
     "data": {
      "text/plain": [
       "((2, 50000), (50000,))"
      ]
     },
     "execution_count": 3,
     "metadata": {},
     "output_type": "execute_result"
    }
   ],
   "source": [
    "train_data, train_labels = generate_data(50_000)\n",
    "train_data.shape, train_labels.shape"
   ]
  },
  {
   "cell_type": "code",
   "execution_count": 4,
   "metadata": {},
   "outputs": [
    {
     "data": {
      "text/plain": [
       "((2, 10000), (10000,))"
      ]
     },
     "execution_count": 4,
     "metadata": {},
     "output_type": "execute_result"
    }
   ],
   "source": [
    "test_data, test_labels = generate_data(10_000)\n",
    "test_data.shape, test_labels.shape"
   ]
  },
  {
   "cell_type": "markdown",
   "metadata": {},
   "source": [
    "# Instantiate and fit the models"
   ]
  },
  {
   "cell_type": "code",
   "execution_count": 5,
   "metadata": {},
   "outputs": [
    {
     "data": {
      "text/plain": [
       "{'activation': [activation.Relu, activation.Sigmoid],\n",
       " 'normalizer': [None, normalizers.L1, normalizers.L2],\n",
       " 'learning_rate': [0.001, 0.005, 0.01]}"
      ]
     },
     "execution_count": 5,
     "metadata": {},
     "output_type": "execute_result"
    }
   ],
   "source": [
    "NEURONS = [2, 4, 1]\n",
    "METRIC = metrics.Accuracy\n",
    "LOSS = losses.MSE\n",
    "\n",
    "params_dict = {\n",
    "    'activation': [activation.Relu, activation.Sigmoid],\n",
    "    'normalizer': [None, normalizers.L1, normalizers.L2],\n",
    "    'learning_rate': [0.001, 0.005, 0.01]\n",
    "}\n",
    "params_dict"
   ]
  },
  {
   "cell_type": "code",
   "execution_count": 6,
   "metadata": {},
   "outputs": [
    {
     "data": {
      "text/html": [
       "<div>\n",
       "<style scoped>\n",
       "    .dataframe tbody tr th:only-of-type {\n",
       "        vertical-align: middle;\n",
       "    }\n",
       "\n",
       "    .dataframe tbody tr th {\n",
       "        vertical-align: top;\n",
       "    }\n",
       "\n",
       "    .dataframe thead th {\n",
       "        text-align: right;\n",
       "    }\n",
       "</style>\n",
       "<table border=\"1\" class=\"dataframe\">\n",
       "  <thead>\n",
       "    <tr style=\"text-align: right;\">\n",
       "      <th></th>\n",
       "      <th>activation</th>\n",
       "      <th>learning_rate</th>\n",
       "      <th>normalizer</th>\n",
       "    </tr>\n",
       "  </thead>\n",
       "  <tbody>\n",
       "    <tr>\n",
       "      <th>0</th>\n",
       "      <td>&lt;class 'activation.Relu'&gt;</td>\n",
       "      <td>0.001</td>\n",
       "      <td>None</td>\n",
       "    </tr>\n",
       "    <tr>\n",
       "      <th>1</th>\n",
       "      <td>&lt;class 'activation.Relu'&gt;</td>\n",
       "      <td>0.001</td>\n",
       "      <td>&lt;class 'normalizers.L1'&gt;</td>\n",
       "    </tr>\n",
       "    <tr>\n",
       "      <th>2</th>\n",
       "      <td>&lt;class 'activation.Relu'&gt;</td>\n",
       "      <td>0.001</td>\n",
       "      <td>&lt;class 'normalizers.L2'&gt;</td>\n",
       "    </tr>\n",
       "    <tr>\n",
       "      <th>3</th>\n",
       "      <td>&lt;class 'activation.Relu'&gt;</td>\n",
       "      <td>0.005</td>\n",
       "      <td>None</td>\n",
       "    </tr>\n",
       "    <tr>\n",
       "      <th>4</th>\n",
       "      <td>&lt;class 'activation.Relu'&gt;</td>\n",
       "      <td>0.005</td>\n",
       "      <td>&lt;class 'normalizers.L1'&gt;</td>\n",
       "    </tr>\n",
       "    <tr>\n",
       "      <th>5</th>\n",
       "      <td>&lt;class 'activation.Relu'&gt;</td>\n",
       "      <td>0.005</td>\n",
       "      <td>&lt;class 'normalizers.L2'&gt;</td>\n",
       "    </tr>\n",
       "    <tr>\n",
       "      <th>6</th>\n",
       "      <td>&lt;class 'activation.Relu'&gt;</td>\n",
       "      <td>0.010</td>\n",
       "      <td>None</td>\n",
       "    </tr>\n",
       "    <tr>\n",
       "      <th>7</th>\n",
       "      <td>&lt;class 'activation.Relu'&gt;</td>\n",
       "      <td>0.010</td>\n",
       "      <td>&lt;class 'normalizers.L1'&gt;</td>\n",
       "    </tr>\n",
       "    <tr>\n",
       "      <th>8</th>\n",
       "      <td>&lt;class 'activation.Relu'&gt;</td>\n",
       "      <td>0.010</td>\n",
       "      <td>&lt;class 'normalizers.L2'&gt;</td>\n",
       "    </tr>\n",
       "    <tr>\n",
       "      <th>9</th>\n",
       "      <td>&lt;class 'activation.Sigmoid'&gt;</td>\n",
       "      <td>0.001</td>\n",
       "      <td>None</td>\n",
       "    </tr>\n",
       "    <tr>\n",
       "      <th>10</th>\n",
       "      <td>&lt;class 'activation.Sigmoid'&gt;</td>\n",
       "      <td>0.001</td>\n",
       "      <td>&lt;class 'normalizers.L1'&gt;</td>\n",
       "    </tr>\n",
       "    <tr>\n",
       "      <th>11</th>\n",
       "      <td>&lt;class 'activation.Sigmoid'&gt;</td>\n",
       "      <td>0.001</td>\n",
       "      <td>&lt;class 'normalizers.L2'&gt;</td>\n",
       "    </tr>\n",
       "    <tr>\n",
       "      <th>12</th>\n",
       "      <td>&lt;class 'activation.Sigmoid'&gt;</td>\n",
       "      <td>0.005</td>\n",
       "      <td>None</td>\n",
       "    </tr>\n",
       "    <tr>\n",
       "      <th>13</th>\n",
       "      <td>&lt;class 'activation.Sigmoid'&gt;</td>\n",
       "      <td>0.005</td>\n",
       "      <td>&lt;class 'normalizers.L1'&gt;</td>\n",
       "    </tr>\n",
       "    <tr>\n",
       "      <th>14</th>\n",
       "      <td>&lt;class 'activation.Sigmoid'&gt;</td>\n",
       "      <td>0.005</td>\n",
       "      <td>&lt;class 'normalizers.L2'&gt;</td>\n",
       "    </tr>\n",
       "    <tr>\n",
       "      <th>15</th>\n",
       "      <td>&lt;class 'activation.Sigmoid'&gt;</td>\n",
       "      <td>0.010</td>\n",
       "      <td>None</td>\n",
       "    </tr>\n",
       "    <tr>\n",
       "      <th>16</th>\n",
       "      <td>&lt;class 'activation.Sigmoid'&gt;</td>\n",
       "      <td>0.010</td>\n",
       "      <td>&lt;class 'normalizers.L1'&gt;</td>\n",
       "    </tr>\n",
       "    <tr>\n",
       "      <th>17</th>\n",
       "      <td>&lt;class 'activation.Sigmoid'&gt;</td>\n",
       "      <td>0.010</td>\n",
       "      <td>&lt;class 'normalizers.L2'&gt;</td>\n",
       "    </tr>\n",
       "  </tbody>\n",
       "</table>\n",
       "</div>"
      ],
      "text/plain": [
       "                      activation  learning_rate                normalizer\n",
       "0      <class 'activation.Relu'>          0.001                      None\n",
       "1      <class 'activation.Relu'>          0.001  <class 'normalizers.L1'>\n",
       "2      <class 'activation.Relu'>          0.001  <class 'normalizers.L2'>\n",
       "3      <class 'activation.Relu'>          0.005                      None\n",
       "4      <class 'activation.Relu'>          0.005  <class 'normalizers.L1'>\n",
       "5      <class 'activation.Relu'>          0.005  <class 'normalizers.L2'>\n",
       "6      <class 'activation.Relu'>          0.010                      None\n",
       "7      <class 'activation.Relu'>          0.010  <class 'normalizers.L1'>\n",
       "8      <class 'activation.Relu'>          0.010  <class 'normalizers.L2'>\n",
       "9   <class 'activation.Sigmoid'>          0.001                      None\n",
       "10  <class 'activation.Sigmoid'>          0.001  <class 'normalizers.L1'>\n",
       "11  <class 'activation.Sigmoid'>          0.001  <class 'normalizers.L2'>\n",
       "12  <class 'activation.Sigmoid'>          0.005                      None\n",
       "13  <class 'activation.Sigmoid'>          0.005  <class 'normalizers.L1'>\n",
       "14  <class 'activation.Sigmoid'>          0.005  <class 'normalizers.L2'>\n",
       "15  <class 'activation.Sigmoid'>          0.010                      None\n",
       "16  <class 'activation.Sigmoid'>          0.010  <class 'normalizers.L1'>\n",
       "17  <class 'activation.Sigmoid'>          0.010  <class 'normalizers.L2'>"
      ]
     },
     "execution_count": 6,
     "metadata": {},
     "output_type": "execute_result"
    }
   ],
   "source": [
    "param_grid = pd.DataFrame(ParameterGrid(params_dict))\n",
    "param_grid"
   ]
  },
  {
   "cell_type": "code",
   "execution_count": 7,
   "metadata": {},
   "outputs": [
    {
     "name": "stdout",
     "output_type": "stream",
     "text": [
      "0: loss = 0.4182, accuracy = 0.5818\n",
      "1: loss = 0.4268, accuracy = 0.5732\n",
      "2: loss = 0.507, accuracy = 0.493\n",
      "3: loss = 0.4059, accuracy = 0.5941\n",
      "4: loss = 0.154, accuracy = 0.846\n",
      "5: loss = 0.5003, accuracy = 0.4997\n",
      "6: loss = 0.3254, accuracy = 0.6746\n",
      "7: loss = 0.082, accuracy = 0.918\n",
      "8: loss = 0.5087, accuracy = 0.4913\n",
      "9: loss = 0.493, accuracy = 0.507\n",
      "10: loss = 0.3859, accuracy = 0.6141\n",
      "11: loss = 0.493, accuracy = 0.507\n",
      "12: loss = 0.6025, accuracy = 0.3975\n",
      "13: loss = 0.4718, accuracy = 0.5282\n",
      "14: loss = 0.507, accuracy = 0.493\n",
      "15: loss = 0.4884, accuracy = 0.5116\n",
      "16: loss = 0.462, accuracy = 0.538\n",
      "17: loss = 0.5827, accuracy = 0.4173\n"
     ]
    }
   ],
   "source": [
    "model_dict = {\n",
    "    'model': [],\n",
    "    'loss': [],\n",
    "    'accuracy': []\n",
    "}\n",
    "\n",
    "for i in param_grid.index:\n",
    "    # instantiate the model\n",
    "    model = FeedForwardDenseNetwork(\n",
    "        neurons=NEURONS,\n",
    "        activation=param_grid.loc[i, 'activation'],\n",
    "        metric=METRIC,\n",
    "        loss=LOSS,\n",
    "        normalizer=param_grid.loc[i, 'normalizer']\n",
    "    )\n",
    "\n",
    "    # fit the model\n",
    "    model.fit(\n",
    "        X=train_data, \n",
    "        Y=train_labels, \n",
    "        learning_rate=param_grid.loc[i, 'learning_rate'],\n",
    "        verbose=False\n",
    "    )\n",
    "\n",
    "    # evaluate the model\n",
    "    loss, accuracy = model.evaluate(test_data, test_labels)\n",
    "    model_dict['model'].append(model)\n",
    "    model_dict['loss'].append(loss)\n",
    "    model_dict['accuracy'].append(accuracy)\n",
    "\n",
    "    print(f\"{i}: {loss = }, {accuracy = }\") "
   ]
  },
  {
   "cell_type": "code",
   "execution_count": 8,
   "metadata": {},
   "outputs": [
    {
     "data": {
      "text/html": [
       "<div>\n",
       "<style scoped>\n",
       "    .dataframe tbody tr th:only-of-type {\n",
       "        vertical-align: middle;\n",
       "    }\n",
       "\n",
       "    .dataframe tbody tr th {\n",
       "        vertical-align: top;\n",
       "    }\n",
       "\n",
       "    .dataframe thead th {\n",
       "        text-align: right;\n",
       "    }\n",
       "</style>\n",
       "<table border=\"1\" class=\"dataframe\">\n",
       "  <thead>\n",
       "    <tr style=\"text-align: right;\">\n",
       "      <th></th>\n",
       "      <th>model</th>\n",
       "      <th>loss</th>\n",
       "      <th>accuracy</th>\n",
       "    </tr>\n",
       "  </thead>\n",
       "  <tbody>\n",
       "    <tr>\n",
       "      <th>0</th>\n",
       "      <td>&lt;network.FeedForwardDenseNetwork object at 0x0...</td>\n",
       "      <td>0.4182</td>\n",
       "      <td>0.5818</td>\n",
       "    </tr>\n",
       "    <tr>\n",
       "      <th>1</th>\n",
       "      <td>&lt;network.FeedForwardDenseNetwork object at 0x0...</td>\n",
       "      <td>0.4268</td>\n",
       "      <td>0.5732</td>\n",
       "    </tr>\n",
       "    <tr>\n",
       "      <th>2</th>\n",
       "      <td>&lt;network.FeedForwardDenseNetwork object at 0x0...</td>\n",
       "      <td>0.5070</td>\n",
       "      <td>0.4930</td>\n",
       "    </tr>\n",
       "    <tr>\n",
       "      <th>3</th>\n",
       "      <td>&lt;network.FeedForwardDenseNetwork object at 0x0...</td>\n",
       "      <td>0.4059</td>\n",
       "      <td>0.5941</td>\n",
       "    </tr>\n",
       "    <tr>\n",
       "      <th>4</th>\n",
       "      <td>&lt;network.FeedForwardDenseNetwork object at 0x0...</td>\n",
       "      <td>0.1540</td>\n",
       "      <td>0.8460</td>\n",
       "    </tr>\n",
       "    <tr>\n",
       "      <th>5</th>\n",
       "      <td>&lt;network.FeedForwardDenseNetwork object at 0x0...</td>\n",
       "      <td>0.5003</td>\n",
       "      <td>0.4997</td>\n",
       "    </tr>\n",
       "    <tr>\n",
       "      <th>6</th>\n",
       "      <td>&lt;network.FeedForwardDenseNetwork object at 0x0...</td>\n",
       "      <td>0.3254</td>\n",
       "      <td>0.6746</td>\n",
       "    </tr>\n",
       "    <tr>\n",
       "      <th>7</th>\n",
       "      <td>&lt;network.FeedForwardDenseNetwork object at 0x0...</td>\n",
       "      <td>0.0820</td>\n",
       "      <td>0.9180</td>\n",
       "    </tr>\n",
       "    <tr>\n",
       "      <th>8</th>\n",
       "      <td>&lt;network.FeedForwardDenseNetwork object at 0x0...</td>\n",
       "      <td>0.5087</td>\n",
       "      <td>0.4913</td>\n",
       "    </tr>\n",
       "    <tr>\n",
       "      <th>9</th>\n",
       "      <td>&lt;network.FeedForwardDenseNetwork object at 0x0...</td>\n",
       "      <td>0.4930</td>\n",
       "      <td>0.5070</td>\n",
       "    </tr>\n",
       "    <tr>\n",
       "      <th>10</th>\n",
       "      <td>&lt;network.FeedForwardDenseNetwork object at 0x0...</td>\n",
       "      <td>0.3859</td>\n",
       "      <td>0.6141</td>\n",
       "    </tr>\n",
       "    <tr>\n",
       "      <th>11</th>\n",
       "      <td>&lt;network.FeedForwardDenseNetwork object at 0x0...</td>\n",
       "      <td>0.4930</td>\n",
       "      <td>0.5070</td>\n",
       "    </tr>\n",
       "    <tr>\n",
       "      <th>12</th>\n",
       "      <td>&lt;network.FeedForwardDenseNetwork object at 0x0...</td>\n",
       "      <td>0.6025</td>\n",
       "      <td>0.3975</td>\n",
       "    </tr>\n",
       "    <tr>\n",
       "      <th>13</th>\n",
       "      <td>&lt;network.FeedForwardDenseNetwork object at 0x0...</td>\n",
       "      <td>0.4718</td>\n",
       "      <td>0.5282</td>\n",
       "    </tr>\n",
       "    <tr>\n",
       "      <th>14</th>\n",
       "      <td>&lt;network.FeedForwardDenseNetwork object at 0x0...</td>\n",
       "      <td>0.5070</td>\n",
       "      <td>0.4930</td>\n",
       "    </tr>\n",
       "    <tr>\n",
       "      <th>15</th>\n",
       "      <td>&lt;network.FeedForwardDenseNetwork object at 0x0...</td>\n",
       "      <td>0.4884</td>\n",
       "      <td>0.5116</td>\n",
       "    </tr>\n",
       "    <tr>\n",
       "      <th>16</th>\n",
       "      <td>&lt;network.FeedForwardDenseNetwork object at 0x0...</td>\n",
       "      <td>0.4620</td>\n",
       "      <td>0.5380</td>\n",
       "    </tr>\n",
       "    <tr>\n",
       "      <th>17</th>\n",
       "      <td>&lt;network.FeedForwardDenseNetwork object at 0x0...</td>\n",
       "      <td>0.5827</td>\n",
       "      <td>0.4173</td>\n",
       "    </tr>\n",
       "  </tbody>\n",
       "</table>\n",
       "</div>"
      ],
      "text/plain": [
       "                                                model    loss  accuracy\n",
       "0   <network.FeedForwardDenseNetwork object at 0x0...  0.4182    0.5818\n",
       "1   <network.FeedForwardDenseNetwork object at 0x0...  0.4268    0.5732\n",
       "2   <network.FeedForwardDenseNetwork object at 0x0...  0.5070    0.4930\n",
       "3   <network.FeedForwardDenseNetwork object at 0x0...  0.4059    0.5941\n",
       "4   <network.FeedForwardDenseNetwork object at 0x0...  0.1540    0.8460\n",
       "5   <network.FeedForwardDenseNetwork object at 0x0...  0.5003    0.4997\n",
       "6   <network.FeedForwardDenseNetwork object at 0x0...  0.3254    0.6746\n",
       "7   <network.FeedForwardDenseNetwork object at 0x0...  0.0820    0.9180\n",
       "8   <network.FeedForwardDenseNetwork object at 0x0...  0.5087    0.4913\n",
       "9   <network.FeedForwardDenseNetwork object at 0x0...  0.4930    0.5070\n",
       "10  <network.FeedForwardDenseNetwork object at 0x0...  0.3859    0.6141\n",
       "11  <network.FeedForwardDenseNetwork object at 0x0...  0.4930    0.5070\n",
       "12  <network.FeedForwardDenseNetwork object at 0x0...  0.6025    0.3975\n",
       "13  <network.FeedForwardDenseNetwork object at 0x0...  0.4718    0.5282\n",
       "14  <network.FeedForwardDenseNetwork object at 0x0...  0.5070    0.4930\n",
       "15  <network.FeedForwardDenseNetwork object at 0x0...  0.4884    0.5116\n",
       "16  <network.FeedForwardDenseNetwork object at 0x0...  0.4620    0.5380\n",
       "17  <network.FeedForwardDenseNetwork object at 0x0...  0.5827    0.4173"
      ]
     },
     "execution_count": 8,
     "metadata": {},
     "output_type": "execute_result"
    }
   ],
   "source": [
    "model_grid = pd.DataFrame(model_dict)\n",
    "model_grid"
   ]
  },
  {
   "cell_type": "code",
   "execution_count": 9,
   "metadata": {},
   "outputs": [
    {
     "name": "stdout",
     "output_type": "stream",
     "text": [
      "Number of layers: 3\n",
      "Number of neurons per layer:\n",
      "\t1: 2\n",
      "\t2: 4\n",
      "\t3: 1\n",
      "Activation: relu\n",
      "Metric: accuracy\n",
      "Loss: mean_sqared_error\n",
      "Normalization: L1\n"
     ]
    },
    {
     "data": {
      "text/plain": [
       "(0.082, 0.918)"
      ]
     },
     "execution_count": 9,
     "metadata": {},
     "output_type": "execute_result"
    }
   ],
   "source": [
    "best_model = model_grid.loc[model_grid['accuracy'].idxmax()]\n",
    "best_model.model.summary()\n",
    "best_model.loss, best_model.accuracy"
   ]
  },
  {
   "cell_type": "code",
   "execution_count": null,
   "metadata": {},
   "outputs": [],
   "source": []
  }
 ],
 "metadata": {
  "kernelspec": {
   "display_name": "Python 3.9.13 ('wsi')",
   "language": "python",
   "name": "python3"
  },
  "language_info": {
   "codemirror_mode": {
    "name": "ipython",
    "version": 3
   },
   "file_extension": ".py",
   "mimetype": "text/x-python",
   "name": "python",
   "nbconvert_exporter": "python",
   "pygments_lexer": "ipython3",
   "version": "3.9.13"
  },
  "orig_nbformat": 4,
  "vscode": {
   "interpreter": {
    "hash": "6afc032793d93576e496679ad92fe96fa3c0dc5677e026f133d03bb98cd6be9a"
   }
  }
 },
 "nbformat": 4,
 "nbformat_minor": 2
}
