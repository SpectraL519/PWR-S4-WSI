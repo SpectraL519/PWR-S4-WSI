{
  "cells": [
    {
      "cell_type": "code",
      "execution_count": null,
      "metadata": {
        "colab": {
          "base_uri": "https://localhost:8080/"
        },
        "id": "L_MJx5BNaBQi",
        "outputId": "cf1e33d0-a332-440f-cbe8-543545c53c7d"
      },
      "outputs": [],
      "source": [
        "import tensorflow as tf\n",
        "import tensorflow_datasets as tfds\n",
        "\n",
        "import utils\n",
        "\n",
        "!nvidia-smi"
      ]
    },
    {
      "cell_type": "markdown",
      "metadata": {
        "id": "EqAo-tNFaBQm"
      },
      "source": [
        "## Generate data"
      ]
    },
    {
      "cell_type": "code",
      "execution_count": null,
      "metadata": {
        "id": "8b6Cd0ofaBQp"
      },
      "outputs": [],
      "source": [
        "(x_train, y_train), (x_test, y_test) = tf.keras.datasets.mnist.load_data()\n",
        "x_train = x_train / 255.\n",
        "x_test = x_test / 255."
      ]
    },
    {
      "cell_type": "code",
      "execution_count": null,
      "metadata": {
        "colab": {
          "base_uri": "https://localhost:8080/"
        },
        "id": "YSJf86MDaBQq",
        "outputId": "dbdfd3f8-b742-4157-fcc8-901046f7c481"
      },
      "outputs": [],
      "source": [
        "(train_data, test_data), info = tfds.load(\n",
        "    'mnist',\n",
        "    split=['train', 'test'],\n",
        "    shuffle_files=True,\n",
        "    as_supervised=True,\n",
        "    with_info=True,\n",
        ")\n",
        "train_data, test_data"
      ]
    },
    {
      "cell_type": "code",
      "execution_count": null,
      "metadata": {
        "colab": {
          "base_uri": "https://localhost:8080/"
        },
        "id": "m0fMPesDaBQr",
        "outputId": "b93351e5-7c2a-4c05-a530-ac4b95a82b76"
      },
      "outputs": [],
      "source": [
        "train_data, test_data, info = utils.prep_data(train_data, test_data, info)\n",
        "train_data, test_data"
      ]
    },
    {
      "cell_type": "markdown",
      "metadata": {
        "id": "uhX0CGGIaBQs"
      },
      "source": [
        "## Build and train_data the model"
      ]
    },
    {
      "cell_type": "code",
      "execution_count": null,
      "metadata": {
        "colab": {
          "base_uri": "https://localhost:8080/"
        },
        "id": "HULPP7vuaBQs",
        "outputId": "b980778d-3110-4ed7-f38a-4d435daa21d4"
      },
      "outputs": [],
      "source": [
        "model = utils.build_model()\n",
        "model.summary()"
      ]
    },
    {
      "cell_type": "code",
      "execution_count": null,
      "metadata": {
        "id": "qZA4d053aBQt"
      },
      "outputs": [],
      "source": [
        "model.compile(\n",
        "    loss=tf.keras.losses.SparseCategoricalCrossentropy(),\n",
        "    optimizer=tf.keras.optimizers.Adam(0.001),\n",
        "    metrics=[tf.keras.metrics.SparseCategoricalAccuracy()]\n",
        ")"
      ]
    },
    {
      "cell_type": "code",
      "execution_count": null,
      "metadata": {
        "colab": {
          "base_uri": "https://localhost:8080/"
        },
        "id": "3WpA7tR1aBQt",
        "outputId": "bf1442b6-a220-4c9b-fc48-2bd93f4ef561"
      },
      "outputs": [],
      "source": [
        "history = model.fit(\n",
        "    train_data, \n",
        "    epochs=utils.EPOCHS,\n",
        "    steps_per_epoch=len(train_data),\n",
        "    validation_data=test_data,\n",
        "    validation_steps=len(test_data)\n",
        ")"
      ]
    },
    {
      "cell_type": "code",
      "execution_count": null,
      "metadata": {
        "colab": {
          "base_uri": "https://localhost:8080/",
          "height": 548
        },
        "id": "8JSZlsqlbcZZ",
        "outputId": "895bd064-7d47-4615-ddbe-0425d222c821"
      },
      "outputs": [],
      "source": [
        "utils.plot_loss_curves(history)"
      ]
    },
    {
      "cell_type": "code",
      "execution_count": null,
      "metadata": {
        "colab": {
          "base_uri": "https://localhost:8080/"
        },
        "id": "cFGfJhxhWLN3",
        "outputId": "b28f159d-5766-4c80-e4ff-5a68c6026655"
      },
      "outputs": [],
      "source": [
        "model.evaluate(test_data)"
      ]
    },
    {
      "cell_type": "markdown",
      "metadata": {
        "id": "n2gSMxopWIEf"
      },
      "source": [
        "## Testing the model on custom data"
      ]
    },
    {
      "cell_type": "code",
      "execution_count": null,
      "metadata": {
        "colab": {
          "base_uri": "https://localhost:8080/"
        },
        "id": "OLrtv8vTkTlu",
        "outputId": "c6c5742e-99bc-48cc-8bc8-37404d6ae04e"
      },
      "outputs": [],
      "source": [
        "custom_data, custom_labels = utils.get_zipped_data(\"custom_data.zip\")\n",
        "custom_data.shape, custom_labels.shape"
      ]
    },
    {
      "cell_type": "code",
      "execution_count": null,
      "metadata": {
        "colab": {
          "base_uri": "https://localhost:8080/"
        },
        "id": "-mjZp-EzWhs1",
        "outputId": "d8201d7f-f964-4b55-d21c-db951a55c3e6"
      },
      "outputs": [],
      "source": [
        "model.evaluate(custom_data, custom_labels)"
      ]
    }
  ],
  "metadata": {
    "accelerator": "GPU",
    "colab": {
      "gpuType": "T4",
      "provenance": []
    },
    "kernelspec": {
      "display_name": "Python 3.9.13 ('wsi')",
      "language": "python",
      "name": "python3"
    },
    "language_info": {
      "codemirror_mode": {
        "name": "ipython",
        "version": 3
      },
      "file_extension": ".py",
      "mimetype": "text/x-python",
      "name": "python",
      "nbconvert_exporter": "python",
      "pygments_lexer": "ipython3",
      "version": "3.9.13"
    },
    "orig_nbformat": 4,
    "vscode": {
      "interpreter": {
        "hash": "6afc032793d93576e496679ad92fe96fa3c0dc5677e026f133d03bb98cd6be9a"
      }
    }
  },
  "nbformat": 4,
  "nbformat_minor": 0
}
